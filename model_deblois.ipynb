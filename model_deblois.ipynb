{
 "cells": [
  {
   "cell_type": "code",
   "execution_count": 16,
   "id": "dcfb0f99",
   "metadata": {},
   "outputs": [],
   "source": [
    "# importing dependencies\n",
    "import pandas as pd"
   ]
  },
  {
   "cell_type": "code",
   "execution_count": 17,
   "id": "05484ff0",
   "metadata": {},
   "outputs": [],
   "source": [
    "# read csv\n",
    "train_df = pd.read_csv(\"static/data/train_cleaned.csv\")\n",
    "test_df = pd.read_csv(\"static/data/test_cleaned.csv\")"
   ]
  },
  {
   "cell_type": "code",
   "execution_count": 18,
   "id": "ee708df4",
   "metadata": {},
   "outputs": [
    {
     "data": {
      "text/html": [
       "<div>\n",
       "<style scoped>\n",
       "    .dataframe tbody tr th:only-of-type {\n",
       "        vertical-align: middle;\n",
       "    }\n",
       "\n",
       "    .dataframe tbody tr th {\n",
       "        vertical-align: top;\n",
       "    }\n",
       "\n",
       "    .dataframe thead th {\n",
       "        text-align: right;\n",
       "    }\n",
       "</style>\n",
       "<table border=\"1\" class=\"dataframe\">\n",
       "  <thead>\n",
       "    <tr style=\"text-align: right;\">\n",
       "      <th></th>\n",
       "      <th>Loan_ID</th>\n",
       "      <th>Gender</th>\n",
       "      <th>Married</th>\n",
       "      <th>Dependents</th>\n",
       "      <th>Education</th>\n",
       "      <th>Self_Employed</th>\n",
       "      <th>ApplicantIncome</th>\n",
       "      <th>CoapplicantIncome</th>\n",
       "      <th>LoanAmount</th>\n",
       "      <th>Loan_Amount_Term</th>\n",
       "      <th>Credit_History</th>\n",
       "      <th>Property_Area</th>\n",
       "      <th>Loan_Status</th>\n",
       "    </tr>\n",
       "  </thead>\n",
       "  <tbody>\n",
       "    <tr>\n",
       "      <th>0</th>\n",
       "      <td>LP001003</td>\n",
       "      <td>Male</td>\n",
       "      <td>Yes</td>\n",
       "      <td>1</td>\n",
       "      <td>Graduate</td>\n",
       "      <td>No</td>\n",
       "      <td>54996</td>\n",
       "      <td>18096</td>\n",
       "      <td>128000</td>\n",
       "      <td>360</td>\n",
       "      <td>1</td>\n",
       "      <td>Rural</td>\n",
       "      <td>N</td>\n",
       "    </tr>\n",
       "    <tr>\n",
       "      <th>1</th>\n",
       "      <td>LP001005</td>\n",
       "      <td>Male</td>\n",
       "      <td>Yes</td>\n",
       "      <td>0</td>\n",
       "      <td>Graduate</td>\n",
       "      <td>Yes</td>\n",
       "      <td>36000</td>\n",
       "      <td>0</td>\n",
       "      <td>66000</td>\n",
       "      <td>360</td>\n",
       "      <td>1</td>\n",
       "      <td>Urban</td>\n",
       "      <td>Y</td>\n",
       "    </tr>\n",
       "    <tr>\n",
       "      <th>2</th>\n",
       "      <td>LP001006</td>\n",
       "      <td>Male</td>\n",
       "      <td>Yes</td>\n",
       "      <td>0</td>\n",
       "      <td>Not Graduate</td>\n",
       "      <td>No</td>\n",
       "      <td>30996</td>\n",
       "      <td>28296</td>\n",
       "      <td>120000</td>\n",
       "      <td>360</td>\n",
       "      <td>1</td>\n",
       "      <td>Urban</td>\n",
       "      <td>Y</td>\n",
       "    </tr>\n",
       "    <tr>\n",
       "      <th>3</th>\n",
       "      <td>LP001008</td>\n",
       "      <td>Male</td>\n",
       "      <td>No</td>\n",
       "      <td>0</td>\n",
       "      <td>Graduate</td>\n",
       "      <td>No</td>\n",
       "      <td>72000</td>\n",
       "      <td>0</td>\n",
       "      <td>141000</td>\n",
       "      <td>360</td>\n",
       "      <td>1</td>\n",
       "      <td>Urban</td>\n",
       "      <td>Y</td>\n",
       "    </tr>\n",
       "    <tr>\n",
       "      <th>4</th>\n",
       "      <td>LP001011</td>\n",
       "      <td>Male</td>\n",
       "      <td>Yes</td>\n",
       "      <td>2</td>\n",
       "      <td>Graduate</td>\n",
       "      <td>Yes</td>\n",
       "      <td>65004</td>\n",
       "      <td>50352</td>\n",
       "      <td>267000</td>\n",
       "      <td>360</td>\n",
       "      <td>1</td>\n",
       "      <td>Urban</td>\n",
       "      <td>Y</td>\n",
       "    </tr>\n",
       "  </tbody>\n",
       "</table>\n",
       "</div>"
      ],
      "text/plain": [
       "    Loan_ID Gender Married Dependents     Education Self_Employed  \\\n",
       "0  LP001003   Male     Yes          1      Graduate            No   \n",
       "1  LP001005   Male     Yes          0      Graduate           Yes   \n",
       "2  LP001006   Male     Yes          0  Not Graduate            No   \n",
       "3  LP001008   Male      No          0      Graduate            No   \n",
       "4  LP001011   Male     Yes          2      Graduate           Yes   \n",
       "\n",
       "   ApplicantIncome  CoapplicantIncome  LoanAmount  Loan_Amount_Term  \\\n",
       "0            54996              18096      128000               360   \n",
       "1            36000                  0       66000               360   \n",
       "2            30996              28296      120000               360   \n",
       "3            72000                  0      141000               360   \n",
       "4            65004              50352      267000               360   \n",
       "\n",
       "   Credit_History Property_Area Loan_Status  \n",
       "0               1         Rural           N  \n",
       "1               1         Urban           Y  \n",
       "2               1         Urban           Y  \n",
       "3               1         Urban           Y  \n",
       "4               1         Urban           Y  "
      ]
     },
     "execution_count": 18,
     "metadata": {},
     "output_type": "execute_result"
    }
   ],
   "source": [
    "train_df.head()"
   ]
  },
  {
   "cell_type": "code",
   "execution_count": 19,
   "id": "25f63a58",
   "metadata": {},
   "outputs": [],
   "source": [
    "# setting up the variables correctly\n",
    "train_df[\"Gender\"].replace({\"Male\": \"0\", \"Female\": \"1\"}, inplace=True)\n",
    "test_df[\"Gender\"].replace({\"Male\": \"0\", \"Female\": \"1\"}, inplace=True)\n",
    "\n",
    "train_df[\"Married\"].replace({\"Yes\": \"1\", \"No\": \"0\"}, inplace=True)\n",
    "test_df[\"Married\"].replace({\"Yes\": \"1\", \"No\": \"0\"}, inplace=True)\n",
    "\n",
    "train_df[\"Dependents\"].replace({\"3+\": \"3\"}, inplace=True)\n",
    "test_df[\"Dependents\"].replace({\"3+\": \"3\"}, inplace=True)\n",
    "\n",
    "train_df[\"Education\"].replace({\"Graduate\": \"1\", \"Not Graduate\": \"0\"}, inplace=True)\n",
    "test_df[\"Education\"].replace({\"Graduate\": \"1\", \"Not Graduate\": \"0\"}, inplace=True)\n",
    "\n",
    "train_df[\"Self_Employed\"].replace({\"Yes\": \"1\", \"No\": \"0\"}, inplace=True)\n",
    "test_df[\"Self_Employed\"].replace({\"Yes\": \"1\", \"No\": \"0\"}, inplace=True)\n",
    "\n",
    "train_df[\"Property_Area\"].replace({\"Urban\": \"2\", \"Semiurban\": \"1\", \"Rural\": \"0\"}, inplace=True)\n",
    "test_df[\"Property_Area\"].replace({\"Urban\": \"2\", \"Semiurban\": \"1\", \"Rural\": \"0\"}, inplace=True)\n",
    "\n",
    "train_df[\"Loan_Status\"].replace({\"Y\": \"1\", \"N\": \"0\"}, inplace=True)"
   ]
  },
  {
   "cell_type": "code",
   "execution_count": 25,
   "id": "51309777",
   "metadata": {},
   "outputs": [],
   "source": [
    "# creating list of features\n",
    "col_list = list(train_df.columns)[1:-1]"
   ]
  },
  {
   "cell_type": "code",
   "execution_count": 114,
   "id": "069567ad",
   "metadata": {},
   "outputs": [],
   "source": [
    "# Scale your data\n",
    "from sklearn.preprocessing import MinMaxScaler\n",
    "scaler = MinMaxScaler()\n",
    "\n",
    "X_train_scaled = scaler.fit_transform(X_train, X_test)\n",
    "X_test_scaled = scaler.fit_transform(X_test, X_test)"
   ]
  },
  {
   "cell_type": "code",
   "execution_count": 115,
   "id": "2c89e542",
   "metadata": {},
   "outputs": [],
   "source": [
    "# creating X and y from dataframe\n",
    "X = train_df[col_list]\n",
    "y = train_df['Loan_Status']\n",
    "\n",
    "# Use train_test_split to create training and testing data\n",
    "from sklearn.model_selection import train_test_split\n",
    "\n",
    "X_train_scaled, X_test_scaled, y_train, y_test = train_test_split(X, y, random_state=5)"
   ]
  },
  {
   "cell_type": "code",
   "execution_count": 116,
   "id": "38ba452d",
   "metadata": {},
   "outputs": [],
   "source": [
    "# Create the model using LinearRegression\n",
    "\n",
    "from sklearn.linear_model import LinearRegression\n",
    "model = LinearRegression()"
   ]
  },
  {
   "cell_type": "code",
   "execution_count": 117,
   "id": "2cc47639",
   "metadata": {},
   "outputs": [
    {
     "name": "stdout",
     "output_type": "stream",
     "text": [
      "Training Score: 0.29330665381801446\n",
      "Testing Score: 0.29047326826021447\n"
     ]
    }
   ],
   "source": [
    "# Fit the model to the training data and calculate the scores for the training and testing data\n",
    "\n",
    "model.fit(X_train_scaled, y_train)\n",
    "training_score = model.score(X_train_scaled, y_train)\n",
    "testing_score = model.score(X_test_scaled, y_test)\n",
    "\n",
    "print(f\"Training Score: {training_score}\")\n",
    "print(f\"Testing Score: {testing_score}\")"
   ]
  }
 ],
 "metadata": {
  "kernelspec": {
   "display_name": "Python [conda env:PythonAdv] *",
   "language": "python",
   "name": "conda-env-PythonAdv-py"
  },
  "language_info": {
   "codemirror_mode": {
    "name": "ipython",
    "version": 3
   },
   "file_extension": ".py",
   "mimetype": "text/x-python",
   "name": "python",
   "nbconvert_exporter": "python",
   "pygments_lexer": "ipython3",
   "version": "3.6.13"
  }
 },
 "nbformat": 4,
 "nbformat_minor": 5
}
